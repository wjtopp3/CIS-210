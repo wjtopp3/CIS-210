{
  "cells": [
    {
      "cell_type": "markdown",
      "metadata": {
        "id": "view-in-github",
        "colab_type": "text"
      },
      "source": [
        "<a href=\"https://colab.research.google.com/github/wjtopp3/CIS-210/blob/main/Week_12___Dimensionality_Reduction.ipynb\" target=\"_parent\"><img src=\"https://colab.research.google.com/assets/colab-badge.svg\" alt=\"Open In Colab\"/></a>"
      ]
    },
    {
      "cell_type": "markdown",
      "id": "925162f6",
      "metadata": {
        "id": "925162f6"
      },
      "source": [
        "# Week 12 - Dimensionality Reduction"
      ]
    },
    {
      "cell_type": "markdown",
      "id": "a5915377",
      "metadata": {
        "id": "a5915377"
      },
      "source": [
        "## Objectives\n",
        "- Use PCA and t-SNE"
      ]
    },
    {
      "cell_type": "code",
      "execution_count": null,
      "id": "e64e37dc",
      "metadata": {
        "id": "e64e37dc"
      },
      "outputs": [],
      "source": [
        "from sklearn.decomposition import PCA"
      ]
    }
  ],
  "metadata": {
    "colab": {
      "provenance": [],
      "include_colab_link": true
    }
  },
  "nbformat": 4,
  "nbformat_minor": 5
}