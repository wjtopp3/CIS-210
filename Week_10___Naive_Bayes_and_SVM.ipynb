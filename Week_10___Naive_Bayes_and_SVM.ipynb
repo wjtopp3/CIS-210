{
  "cells": [
    {
      "cell_type": "markdown",
      "metadata": {
        "id": "view-in-github",
        "colab_type": "text"
      },
      "source": [
        "<a href=\"https://colab.research.google.com/github/wjtopp3/CIS-210/blob/main/Week_10___Naive_Bayes_and_SVM.ipynb\" target=\"_parent\"><img src=\"https://colab.research.google.com/assets/colab-badge.svg\" alt=\"Open In Colab\"/></a>"
      ]
    },
    {
      "cell_type": "markdown",
      "id": "f353ea53",
      "metadata": {
        "id": "f353ea53"
      },
      "source": [
        "# Week 10 - Naive Bayes and SVM"
      ]
    },
    {
      "cell_type": "markdown",
      "id": "927f0e62",
      "metadata": {
        "id": "927f0e62"
      },
      "source": [
        "## Objectives\n",
        "- Compare Naive Bayes and SVM models"
      ]
    },
    {
      "cell_type": "code",
      "execution_count": null,
      "id": "a02b3e2d",
      "metadata": {
        "id": "a02b3e2d"
      },
      "outputs": [],
      "source": [
        "from sklearn.naive_bayes import GaussianNB\n",
        "from sklearn.svm import SVC"
      ]
    }
  ],
  "metadata": {
    "colab": {
      "provenance": [],
      "include_colab_link": true
    }
  },
  "nbformat": 4,
  "nbformat_minor": 5
}