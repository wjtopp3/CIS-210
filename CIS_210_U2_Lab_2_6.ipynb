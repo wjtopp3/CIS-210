{
  "nbformat": 4,
  "nbformat_minor": 0,
  "metadata": {
    "colab": {
      "provenance": [],
      "authorship_tag": "ABX9TyNm4aSZLpR20uNHW7fl2mF4",
      "include_colab_link": true
    },
    "kernelspec": {
      "name": "python3",
      "display_name": "Python 3"
    },
    "language_info": {
      "name": "python"
    }
  },
  "cells": [
    {
      "cell_type": "markdown",
      "metadata": {
        "id": "view-in-github",
        "colab_type": "text"
      },
      "source": [
        "<a href=\"https://colab.research.google.com/github/wjtopp3/CIS-210/blob/main/CIS_210_U2_Lab_2_6.ipynb\" target=\"_parent\"><img src=\"https://colab.research.google.com/assets/colab-badge.svg\" alt=\"Open In Colab\"/></a>"
      ]
    },
    {
      "cell_type": "markdown",
      "source": [
        "The dataset SDSS contains 17 observational features and one class feature for 10000 deep sky objects observed by the Sloan Digital Sky Survey. Use sklearn's KNeighborsClassifier() function to perform kNN classification to classify each object by the object's redshift and u-g color.\n",
        "\n",
        "Import the necessary modules for kNN classification\n",
        "Create dataframe X with features redshift and u_g\n",
        "Create dataframe y with feature class\n",
        "Initialize a kNN model with k=3\n",
        "Fit the model using the training data\n",
        "Find the predicted classes for the test data\n",
        "Calculate the accuracy score using the test data\n",
        "Ex: If the feature u is used rather than u_g, the output is:\n",
        "\n",
        "Accuracy score is 0.979"
      ],
      "metadata": {
        "id": "cdF0UAHOkHl-"
      }
    },
    {
      "cell_type": "code",
      "execution_count": null,
      "metadata": {
        "id": "cwR-ydM5jvHg"
      },
      "outputs": [],
      "source": [
        "# Import packages for evaluation\n",
        "from sklean.neighbors import KNeighborsClassifier\n",
        "from sklearn.model_selection import train_test_split\n",
        "from sklearn.metrics import accuracy_score\n",
        "\n",
        "# Import packages for data manipulation\n",
        "import pandas as pd\n",
        "import numpy as np\n",
        "\n",
        "# Load the dataset\n",
        "skySurvey = pd.read_csv('SDSS.csv')\n",
        "\n",
        "# Create a new feature from u - g\n",
        "skySurvey['u_g'] = skySurvey['u'] - skySurvey['g']\n",
        "\n",
        "# Create dataframe X with features redshift and u_g\n",
        "X = pd.DataFrame(skySurvey, columns=['redshift', 'u_g'])\n",
        "\n",
        "# Create dataframe y with feature class\n",
        "y = pd.DataFrame(skySurvey, columns=['class'])\n",
        "\n",
        "\n",
        "np.random.seed(42)\n",
        "\n",
        "# Split data into training and test sets\n",
        "X_train, X_test, y_train, y_test = train_test_split(X, y, test_size=0.3)\n",
        "\n",
        "# Initialize model with k=3\n",
        "skySurveyKnn = # Your code here\n",
        "\n",
        "# Fit model using X_train and y_train\n",
        "# Your code here\n",
        "\n",
        "# Find the predicted classes for X_test\n",
        "y_pred = # Your code here\n",
        "\n",
        "# Calculate accuracy score\n",
        "score = # Your code here\n",
        "\n",
        "# Print accuracy score\n",
        "print('Accuracy score is ', end=\"\")\n",
        "print('%.3f' % score)"
      ]
    }
  ]
}