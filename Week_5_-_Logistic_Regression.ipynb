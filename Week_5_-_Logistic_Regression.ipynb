{
 "cells": [
  {
   "cell_type": "markdown",
   "id": "3cfd573d",
   "metadata": {},
   "source": [
    "# Week 5 - Logistic Regression"
   ]
  },
  {
   "cell_type": "markdown",
   "id": "7ee8add7",
   "metadata": {},
   "source": [
    "## Objectives\n",
    "- Binary classification using logistic regression"
   ]
  },
  {
   "cell_type": "code",
   "execution_count": null,
   "id": "26bfb9b9",
   "metadata": {},
   "outputs": [],
   "source": [
    "from sklearn.linear_model import LogisticRegression"
   ]
  }
 ],
 "metadata": {},
 "nbformat": 4,
 "nbformat_minor": 5
}
