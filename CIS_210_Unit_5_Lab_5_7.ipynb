{
  "nbformat": 4,
  "nbformat_minor": 0,
  "metadata": {
    "colab": {
      "provenance": [],
      "authorship_tag": "ABX9TyN41Z/DIOVrDNMTRie2mT5L",
      "include_colab_link": true
    },
    "kernelspec": {
      "name": "python3",
      "display_name": "Python 3"
    },
    "language_info": {
      "name": "python"
    }
  },
  "cells": [
    {
      "cell_type": "markdown",
      "metadata": {
        "id": "view-in-github",
        "colab_type": "text"
      },
      "source": [
        "<a href=\"https://colab.research.google.com/github/wjtopp3/CIS-210/blob/main/CIS_210_Unit_5_Lab_5_7.ipynb\" target=\"_parent\"><img src=\"https://colab.research.google.com/assets/colab-badge.svg\" alt=\"Open In Colab\"/></a>"
      ]
    },
    {
      "cell_type": "markdown",
      "source": [
        "The diamond dataset contains the price, cut, color, and other characteristics of a sample of nearly 54,000 diamonds. This data can be used to predict the price of a diamond based on its characteristics. Use **sklearn's GridSearchCV()** function to train and evaluate an **elastic net model over a hyperparameter grid**.\n",
        "\n",
        "- Create dataframe X with the features carat and depth.\n",
        "\n",
        "- Create dataframe y with the feature price.\n",
        "\n",
        "- Split the data into 80% training and 20% testing sets, with random_state = 42.\n",
        "\n",
        "- Initialize an elastic net model with random_state = 0.\n",
        "\n",
        "- Create a tuning grid with the hyperparameter name alpha and the values 0.1, 0.5, 0.9, 1.0.\n",
        "\n",
        "- Use GridSearchCV() with cv=10 to initialize and fit a tuning grid to the training data.\n",
        "\n",
        "- Print the mean testing score for each fold and the best parameter value.\n",
        "\n",
        "----------------------------------\n",
        "\n",
        "Ex: If random_state=123 is used to split the data, the output is:\n",
        "\n",
        "Mean testing scores: [0.8487619  0.81653977 0.76847326 0.75584872]\n",
        "Best estimator: ElasticNet(alpha=0.1, random_state=0)"
      ],
      "metadata": {
        "id": "fxlnmsaavpZn"
      }
    },
    {
      "cell_type": "code",
      "execution_count": 2,
      "metadata": {
        "colab": {
          "base_uri": "https://localhost:8080/"
        },
        "id": "f_jxtSgFvhXi",
        "outputId": "5852d59a-da36-4a1a-ccea-b67294ef1d3e"
      },
      "outputs": [
        {
          "output_type": "stream",
          "name": "stdout",
          "text": [
            "Mean testing scores: [0.82224591 0.61369963 0.47103892 0.444506  ]\n",
            "Best estimator: ElasticNet(alpha=0.1, random_state=0)\n"
          ]
        }
      ],
      "source": [
        "import pandas as pd\n",
        "from sklearn.model_selection import train_test_split, GridSearchCV\n",
        "from sklearn.linear_model import ElasticNet\n",
        "\n",
        "# Load the diamond dataset\n",
        "# Replace 'diamonds.csv' with your actual file path\n",
        "# Load the diamonds dataset\n",
        "# Assuming the dataset is available as a CSV file or from a package like seaborn\n",
        "try:\n",
        "    import seaborn as sns\n",
        "    df = sns.load_dataset('diamonds')\n",
        "except:\n",
        "    # Alternative: if you have the dataset as a CSV file\n",
        "    df = pd.read_csv('diamonds.csv')\n",
        "\n",
        "\n",
        "# Create dataframe X with the features 'carat' and 'depth'\n",
        "X = df[['carat', 'depth']]\n",
        "\n",
        "# Create dataframe y with the feature 'price'\n",
        "y = df[['price']]\n",
        "\n",
        "# Split the data into 80% training and 20% testing sets, with random_state = 42\n",
        "X_train, X_test, y_train, y_test = train_test_split(\n",
        "    X, y, test_size=0.20, random_state=42\n",
        ")\n",
        "\n",
        "# Initialize an elastic net model with random_state = 0\n",
        "elastic_net = ElasticNet(random_state=0)\n",
        "\n",
        "# Create a tuning grid with the hyperparameter name 'alpha' and values 0.1, 0.5, 0.9, 1.0\n",
        "param_grid = {\n",
        "    'alpha': [0.1, 0.5, 0.9, 1.0]\n",
        "}\n",
        "\n",
        "# Use GridSearchCV() with cv=10 to initialize and fit a tuning grid to the training data\n",
        "grid_search = GridSearchCV(\n",
        "    elastic_net,\n",
        "    param_grid,\n",
        "    cv=10\n",
        ")\n",
        "\n",
        "# Fit the grid search to the training data\n",
        "grid_search.fit(X_train, y_train.values.ravel())\n",
        "\n",
        "# Print the mean testing score for each fold\n",
        "print(\"Mean testing scores:\", grid_search.cv_results_['mean_test_score'])\n",
        "\n",
        "# Print the best parameter value\n",
        "print(\"Best estimator:\", grid_search.best_estimator_)"
      ]
    },
    {
      "cell_type": "code",
      "source": [
        "import numpy as np\n",
        "import pandas as pd\n",
        "from sklearn.model_selection import train_test_split\n",
        "from sklearn.model_selection import GridSearchCV\n",
        "from sklearn.preprocessing import StandardScaler\n",
        "from sklearn.linear_model import ElasticNet\n",
        "\n",
        "# Load the diamonds dataset\n",
        "# Assuming the dataset is available as a CSV file or from a package like seaborn\n",
        "try:\n",
        "    import seaborn as sns\n",
        "    diamonds = sns.load_dataset('diamonds')\n",
        "except:\n",
        "    # Alternative: if you have the dataset as a CSV file\n",
        "    diamonds = pd.read_csv('diamonds.csv')\n",
        "\n",
        "\n",
        "X = diamonds[['carat', 'depth']]\n",
        "y = diamonds[['price']]\n",
        "\n",
        "# Create training/testing split\n",
        "X_train, X_test, y_train, y_test = train_test_split(X, y, test_size=0.2, random_state=42)\n",
        "\n",
        "# Scale the input features\n",
        "scaler = StandardScaler()\n",
        "X_train = scaler.fit_transform(X_train)\n",
        "X_test = scaler.transform(X_test)\n",
        "\n",
        "# Initialize elastic net model\n",
        "ENModel = ElasticNet(random_state=0)\n",
        "\n",
        "# Create tuning grid\n",
        "alpha = {'alpha': [0.1, 0.5, 0.9, 1.0]}\n",
        "\n",
        "# Initialize tuning grid and fit to training data\n",
        "ENTuning = GridSearchCV(ENModel, alpha, cv=10)\n",
        "ENTuning.fit(X_train, np.ravel(y_train))\n",
        "\n",
        "# Mean testing score for each lambda and best model\n",
        "print('Mean testing scores:', ENTuning.cv_results_['mean_test_score'])\n",
        "print('Best estimator:', ENTuning.best_estimator_)"
      ],
      "metadata": {
        "colab": {
          "base_uri": "https://localhost:8080/"
        },
        "id": "KuBtkFvNwVsT",
        "outputId": "7c216a33-b42d-41a4-e8b5-defade1b58a9"
      },
      "execution_count": 3,
      "outputs": [
        {
          "output_type": "stream",
          "name": "stdout",
          "text": [
            "Mean testing scores: [0.84865529 0.81643291 0.76836873 0.75574554]\n",
            "Best estimator: ElasticNet(alpha=0.1, random_state=0)\n"
          ]
        }
      ]
    }
  ]
}