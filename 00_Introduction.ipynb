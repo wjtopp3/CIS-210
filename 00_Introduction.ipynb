{
 "cells": [
  {
   "cell_type": "markdown",
   "id": "2e96558d",
   "metadata": {},
   "source": [
    "# Introduction\n",
    "\n",
    "Welcome to the project: **Fake News Detection**.\n",
    "\n",
    "In this notebook, you will get an overview of the project, understand its objective, and outline the steps to solve the problem using Machine Learning."
   ]
  }
 ],
 "metadata": {},
 "nbformat": 4,
 "nbformat_minor": 5
}
