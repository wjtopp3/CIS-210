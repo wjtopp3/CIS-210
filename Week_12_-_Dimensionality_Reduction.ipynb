{
 "cells": [
  {
   "cell_type": "markdown",
   "id": "925162f6",
   "metadata": {},
   "source": [
    "# Week 12 - Dimensionality Reduction"
   ]
  },
  {
   "cell_type": "markdown",
   "id": "a5915377",
   "metadata": {},
   "source": [
    "## Objectives\n",
    "- Use PCA and t-SNE"
   ]
  },
  {
   "cell_type": "code",
   "execution_count": null,
   "id": "e64e37dc",
   "metadata": {},
   "outputs": [],
   "source": [
    "from sklearn.decomposition import PCA"
   ]
  }
 ],
 "metadata": {},
 "nbformat": 4,
 "nbformat_minor": 5
}
