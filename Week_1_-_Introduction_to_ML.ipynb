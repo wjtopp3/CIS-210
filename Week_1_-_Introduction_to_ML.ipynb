{
 "cells": [
  {
   "cell_type": "markdown",
   "id": "151923a1",
   "metadata": {},
   "source": [
    "# Week 1 - Introduction to Machine Learning"
   ]
  },
  {
   "cell_type": "markdown",
   "id": "c2305528",
   "metadata": {},
   "source": [
    "## Objectives\n",
    "- Understand ML categories\n",
    "- Install tools\n",
    "- Explore example datasets"
   ]
  },
  {
   "cell_type": "markdown",
   "id": "5ac37b49",
   "metadata": {},
   "source": [
    "## Setup"
   ]
  },
  {
   "cell_type": "code",
   "execution_count": null,
   "id": "b25437ee",
   "metadata": {},
   "outputs": [],
   "source": [
    "!pip install numpy pandas matplotlib scikit-learn"
   ]
  },
  {
   "cell_type": "markdown",
   "id": "48f18e13",
   "metadata": {},
   "source": [
    "## Sample Dataset Exploration"
   ]
  },
  {
   "cell_type": "code",
   "execution_count": null,
   "id": "7d728120",
   "metadata": {},
   "outputs": [],
   "source": [
    "from sklearn import datasets\n",
    "iris = datasets.load_iris()\n",
    "print(iris.DESCR)"
   ]
  }
 ],
 "metadata": {},
 "nbformat": 4,
 "nbformat_minor": 5
}
