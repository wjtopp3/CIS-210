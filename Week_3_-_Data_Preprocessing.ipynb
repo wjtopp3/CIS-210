{
 "cells": [
  {
   "cell_type": "markdown",
   "id": "e8437f55",
   "metadata": {},
   "source": [
    "# Week 3 - Data Preprocessing"
   ]
  },
  {
   "cell_type": "markdown",
   "id": "ece1438c",
   "metadata": {},
   "source": [
    "## Objectives\n",
    "- Handle missing data\n",
    "- Normalize and encode features"
   ]
  },
  {
   "cell_type": "code",
   "execution_count": null,
   "id": "973c71f0",
   "metadata": {},
   "outputs": [],
   "source": [
    "from sklearn.preprocessing import StandardScaler, LabelEncoder\n",
    "import seaborn as sns"
   ]
  },
  {
   "cell_type": "code",
   "execution_count": null,
   "id": "ba8594e3",
   "metadata": {},
   "outputs": [],
   "source": [
    "df = sns.load_dataset('titanic')\n",
    "df = df.dropna(subset=['age'])"
   ]
  }
 ],
 "metadata": {},
 "nbformat": 4,
 "nbformat_minor": 5
}
