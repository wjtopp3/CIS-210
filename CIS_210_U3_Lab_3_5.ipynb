{
  "nbformat": 4,
  "nbformat_minor": 0,
  "metadata": {
    "colab": {
      "provenance": [],
      "authorship_tag": "ABX9TyNyOUCDm3HASup+uOiSYhYp",
      "include_colab_link": true
    },
    "kernelspec": {
      "name": "python3",
      "display_name": "Python 3"
    },
    "language_info": {
      "name": "python"
    }
  },
  "cells": [
    {
      "cell_type": "markdown",
      "metadata": {
        "id": "view-in-github",
        "colab_type": "text"
      },
      "source": [
        "<a href=\"https://colab.research.google.com/github/wjtopp3/CIS-210/blob/main/CIS_210_U3_Lab_3_5.ipynb\" target=\"_parent\"><img src=\"https://colab.research.google.com/assets/colab-badge.svg\" alt=\"Open In Colab\"/></a>"
      ]
    },
    {
      "cell_type": "markdown",
      "source": [
        "The diamonds dataset contains the price, cut, color, and other characteristics of a sample of nearly 54,000 diamonds. This data can be used to predict the price of a diamond based on its characteristics. Use sklearn's LinearRegression() function to predict the price of a diamond from the diamond's carat and table values.\n",
        "\n",
        "Import needed packages for regression.\n",
        "Initialize and fit a multiple linear regression model.\n",
        "Get the estimated intercept weight.\n",
        "Get the estimated weights of the carat and table features.\n",
        "Predict the price of a diamond with the user-input carat and table values.\n",
        "\n",
        "**Ex: If the input is:**\n",
        "\n",
        "0.5\n",
        "\n",
        "60\n",
        "\n",
        "**the output should be:**\n",
        "\n",
        "Intercept is 1961.992\n",
        "\n",
        "Weights for carat and table features are [7820.038  -74.301]\n",
        "\n",
        "Predicted price is [1413.97]"
      ],
      "metadata": {
        "id": "vJCmfDx1b1j5"
      }
    },
    {
      "cell_type": "code",
      "execution_count": null,
      "metadata": {
        "id": "DEnjkGXPbwFc"
      },
      "outputs": [],
      "source": [
        "import pandas as pd\n",
        "import numpy as np\n",
        "from sklearn.linear_model import LinearRegression\n",
        "\n",
        "# Load the diamonds dataset\n",
        "# Assuming the dataset is available as a CSV file or from a package like seaborn\n",
        "try:\n",
        "    import seaborn as sns\n",
        "    diamonds = sns.load_dataset('diamonds')\n",
        "except:\n",
        "    # Alternative: if you have the dataset as a CSV file\n",
        "    diamonds = pd.read_csv('diamonds.csv')\n",
        "\n",
        "# Prepare the data\n",
        "# Select features (carat and table) and target (price)\n",
        "X = diamonds[['carat', 'table']]\n",
        "y = diamonds['price']\n",
        "\n",
        "# Handle any missing values if present\n",
        "X = X.dropna()\n",
        "y = y[X.index]\n",
        "\n",
        "# Initialize the Linear Regression model\n",
        "model = LinearRegression()\n",
        "\n",
        "# Fit the model\n",
        "model.fit(X, y)\n",
        "\n",
        "# Get the estimated intercept\n",
        "intercept = model.intercept_\n",
        "print(f\"Intercept is {intercept:.3f}\")\n",
        "\n",
        "# Get the estimated weights (coefficients) for carat and table\n",
        "coefficients = model.coef_\n",
        "print(f\"Weights for carat and table features are [{coefficients[0]:7.3f} {coefficients[1]:7.3f}]\")\n",
        "\n",
        "# Get user input for prediction\n",
        "carat_input = float(input())\n",
        "table_input = float(input())\n",
        "\n",
        "# Create input array for prediction\n",
        "user_input = np.array([[carat_input, table_input]])\n",
        "\n",
        "# Predict the price\n",
        "predicted_price = model.predict(user_input)\n",
        "\n",
        "print(f\"Predicted price is [{predicted_price[0]:.2f}]\")"
      ]
    }
  ]
}