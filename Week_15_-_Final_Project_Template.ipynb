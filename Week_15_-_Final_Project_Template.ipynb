{
 "cells": [
  {
   "cell_type": "markdown",
   "id": "f092de55",
   "metadata": {},
   "source": [
    "# Week 15 - Final Project Template"
   ]
  },
  {
   "cell_type": "markdown",
   "id": "e02c493a",
   "metadata": {},
   "source": [
    "## Instructions\n",
    "- Insert project summary and model code here"
   ]
  }
 ],
 "metadata": {},
 "nbformat": 4,
 "nbformat_minor": 5
}
