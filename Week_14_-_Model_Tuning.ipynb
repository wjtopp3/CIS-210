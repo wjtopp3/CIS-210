{
 "cells": [
  {
   "cell_type": "markdown",
   "id": "449566c3",
   "metadata": {},
   "source": [
    "# Week 14 - Model Tuning and Optimization"
   ]
  },
  {
   "cell_type": "markdown",
   "id": "c6435c5c",
   "metadata": {},
   "source": [
    "## Objectives\n",
    "- Use GridSearchCV and pipelines"
   ]
  },
  {
   "cell_type": "code",
   "execution_count": null,
   "id": "dbdf72fc",
   "metadata": {},
   "outputs": [],
   "source": [
    "from sklearn.model_selection import GridSearchCV"
   ]
  }
 ],
 "metadata": {},
 "nbformat": 4,
 "nbformat_minor": 5
}
