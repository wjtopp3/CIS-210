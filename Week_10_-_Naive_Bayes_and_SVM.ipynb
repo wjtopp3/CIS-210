{
 "cells": [
  {
   "cell_type": "markdown",
   "id": "f353ea53",
   "metadata": {},
   "source": [
    "# Week 10 - Naive Bayes and SVM"
   ]
  },
  {
   "cell_type": "markdown",
   "id": "927f0e62",
   "metadata": {},
   "source": [
    "## Objectives\n",
    "- Compare Naive Bayes and SVM models"
   ]
  },
  {
   "cell_type": "code",
   "execution_count": null,
   "id": "a02b3e2d",
   "metadata": {},
   "outputs": [],
   "source": [
    "from sklearn.naive_bayes import GaussianNB\n",
    "from sklearn.svm import SVC"
   ]
  }
 ],
 "metadata": {},
 "nbformat": 4,
 "nbformat_minor": 5
}
