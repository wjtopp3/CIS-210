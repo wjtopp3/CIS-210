{
 "cells": [
  {
   "cell_type": "markdown",
   "id": "468e4670",
   "metadata": {},
   "source": [
    "# Week 6 - Model Evaluation"
   ]
  },
  {
   "cell_type": "markdown",
   "id": "a1a38897",
   "metadata": {},
   "source": [
    "## Objectives\n",
    "- Evaluate models using confusion matrix and metrics"
   ]
  },
  {
   "cell_type": "code",
   "execution_count": null,
   "id": "f61d9571",
   "metadata": {},
   "outputs": [],
   "source": [
    "from sklearn.metrics import confusion_matrix, classification_report"
   ]
  }
 ],
 "metadata": {},
 "nbformat": 4,
 "nbformat_minor": 5
}
