{
 "cells": [
  {
   "cell_type": "markdown",
   "id": "db9f7056",
   "metadata": {},
   "source": [
    "# Week 4 - Linear Regression"
   ]
  },
  {
   "cell_type": "markdown",
   "id": "1848ec4b",
   "metadata": {},
   "source": [
    "## Objectives\n",
    "- Fit and evaluate linear regression models"
   ]
  },
  {
   "cell_type": "code",
   "execution_count": null,
   "id": "e22e703f",
   "metadata": {},
   "outputs": [],
   "source": [
    "from sklearn.linear_model import LinearRegression\n",
    "from sklearn.metrics import mean_squared_error"
   ]
  },
  {
   "cell_type": "code",
   "execution_count": null,
   "id": "63c46885",
   "metadata": {},
   "outputs": [],
   "source": [
    "model = LinearRegression()\n",
    "# fit model here"
   ]
  }
 ],
 "metadata": {},
 "nbformat": 4,
 "nbformat_minor": 5
}
