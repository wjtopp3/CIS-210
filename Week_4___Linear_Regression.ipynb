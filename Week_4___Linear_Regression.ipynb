{
  "cells": [
    {
      "cell_type": "markdown",
      "metadata": {
        "id": "view-in-github",
        "colab_type": "text"
      },
      "source": [
        "<a href=\"https://colab.research.google.com/github/wjtopp3/CIS-210/blob/main/Week_4___Linear_Regression.ipynb\" target=\"_parent\"><img src=\"https://colab.research.google.com/assets/colab-badge.svg\" alt=\"Open In Colab\"/></a>"
      ]
    },
    {
      "cell_type": "markdown",
      "id": "db9f7056",
      "metadata": {
        "id": "db9f7056"
      },
      "source": [
        "# Week 4 - Linear Regression"
      ]
    },
    {
      "cell_type": "markdown",
      "id": "1848ec4b",
      "metadata": {
        "id": "1848ec4b"
      },
      "source": [
        "## Objectives\n",
        "- Fit and evaluate linear regression models"
      ]
    },
    {
      "cell_type": "code",
      "execution_count": null,
      "id": "e22e703f",
      "metadata": {
        "id": "e22e703f"
      },
      "outputs": [],
      "source": [
        "from sklearn.linear_model import LinearRegression\n",
        "from sklearn.metrics import mean_squared_error"
      ]
    },
    {
      "cell_type": "code",
      "execution_count": null,
      "id": "63c46885",
      "metadata": {
        "id": "63c46885"
      },
      "outputs": [],
      "source": [
        "model = LinearRegression()\n",
        "# fit model here"
      ]
    }
  ],
  "metadata": {
    "colab": {
      "provenance": [],
      "include_colab_link": true
    }
  },
  "nbformat": 4,
  "nbformat_minor": 5
}