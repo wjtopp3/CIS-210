{
  "nbformat": 4,
  "nbformat_minor": 0,
  "metadata": {
    "colab": {
      "provenance": [],
      "authorship_tag": "ABX9TyMHN4NrrVSkCwVUCHUiU3WK",
      "include_colab_link": true
    },
    "kernelspec": {
      "name": "python3",
      "display_name": "Python 3"
    },
    "language_info": {
      "name": "python"
    }
  },
  "cells": [
    {
      "cell_type": "markdown",
      "metadata": {
        "id": "view-in-github",
        "colab_type": "text"
      },
      "source": [
        "<a href=\"https://colab.research.google.com/github/wjtopp3/CIS-210/blob/main/CIS_210_U3_Lab_3_7.ipynb\" target=\"_parent\"><img src=\"https://colab.research.google.com/assets/colab-badge.svg\" alt=\"Open In Colab\"/></a>"
      ]
    },
    {
      "cell_type": "markdown",
      "source": [
        "The diamonds dataset contains the price, cut, color, and other characteristics of a sample of nearly 54,000 diamonds. This data can be used to predict the price of a diamond based on its characteristics. Use sklearn's KNeighborsRegressor() function to predict the price of a diamond from the diamond's carat and table values.\n",
        "\n",
        "Import needed packages for regression.\n",
        "Initialize and fit a k-nearest neighbor regression model using a Euclidean distance metric and k=12.\n",
        "Predict the price of a diamond with the user-input carat and table values.\n",
        "Find the distances and indices of the 12 nearest neighbors for the user-input instance\n",
        "\n",
        "**Ex: If the input is:**\n",
        "\n",
        "0.5\n",
        "\n",
        "60\n",
        "\n",
        "the output should be:\n",
        "\n",
        "Predicted price is [976.]\n",
        "\n",
        "Distances and indices of the 12 nearest neighbors are\n",
        "\n",
        "(array([[0., 0., 0., 0., 0., 0., 0., 0., 0., 0., 0., 0.]]),\n",
        "\n",
        "array([[36978, 39309, 40216, 41316, 29444, 36080, 38823, 33766, 31706,\n",
        "        34796, 36889, 41402]]))"
      ],
      "metadata": {
        "id": "wM82BKIWe9_m"
      }
    },
    {
      "cell_type": "code",
      "execution_count": null,
      "metadata": {
        "id": "YjdEhAVOeyey"
      },
      "outputs": [],
      "source": [
        "import pandas as pd\n",
        "import numpy as np\n",
        "from sklearn.neighbors import KNeighborsRegressor\n",
        "\n",
        "# Load the diamonds dataset\n",
        "try:\n",
        "    import seaborn as sns\n",
        "    diamonds = sns.load_dataset('diamonds')\n",
        "except:\n",
        "    # Alternative: if you have the dataset as a CSV file\n",
        "    diamonds = pd.read_csv('diamonds.csv')\n",
        "\n",
        "# Prepare the data\n",
        "# Select features (carat and table) and target (price)\n",
        "X = diamonds[['carat', 'table']]\n",
        "y = diamonds['price']\n",
        "\n",
        "# Handle any missing values if present\n",
        "#X = X.dropna()\n",
        "#y = y[X.index]\n",
        "\n",
        "# Initialize the KNeighborsRegressor model with k=12 and Euclidean distance\n",
        "model = KNeighborsRegressor(n_neighbors=12, metric='euclidean')\n",
        "\n",
        "# Fit the model\n",
        "model.fit(X, y)\n",
        "\n",
        "# Get user input for prediction\n",
        "carat_input = float(input())\n",
        "table_input = float(input())\n",
        "\n",
        "# Create input array for prediction\n",
        "user_input = np.array([[carat_input, table_input]])\n",
        "\n",
        "# Predict the price\n",
        "predicted_price = model.predict(user_input)\n",
        "\n",
        "print(f\"Predicted price is {predicted_price}\")\n",
        "\n",
        "# Find the distances and indices of the 12 nearest neighbors\n",
        "distances, indices = model.kneighbors(user_input)\n",
        "\n",
        "print(f\"Distances and indices of the 12 nearest neighbors are {(distances, indices)}\")"
      ]
    }
  ]
}