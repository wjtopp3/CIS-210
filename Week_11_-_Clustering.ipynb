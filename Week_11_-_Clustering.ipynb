{
 "cells": [
  {
   "cell_type": "markdown",
   "id": "a86ba603",
   "metadata": {},
   "source": [
    "# Week 11 - Clustering"
   ]
  },
  {
   "cell_type": "markdown",
   "id": "3d5cf451",
   "metadata": {},
   "source": [
    "## Objectives\n",
    "- Apply k-means and hierarchical clustering"
   ]
  },
  {
   "cell_type": "code",
   "execution_count": null,
   "id": "11582c6c",
   "metadata": {},
   "outputs": [],
   "source": [
    "from sklearn.cluster import KMeans"
   ]
  }
 ],
 "metadata": {},
 "nbformat": 4,
 "nbformat_minor": 5
}
