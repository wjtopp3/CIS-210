{
  "cells": [
    {
      "cell_type": "markdown",
      "metadata": {
        "id": "view-in-github",
        "colab_type": "text"
      },
      "source": [
        "<a href=\"https://colab.research.google.com/github/wjtopp3/CIS-210/blob/main/Week_6___Model_Evaluation.ipynb\" target=\"_parent\"><img src=\"https://colab.research.google.com/assets/colab-badge.svg\" alt=\"Open In Colab\"/></a>"
      ]
    },
    {
      "cell_type": "markdown",
      "id": "468e4670",
      "metadata": {
        "id": "468e4670"
      },
      "source": [
        "# Week 6 - Model Evaluation"
      ]
    },
    {
      "cell_type": "markdown",
      "id": "a1a38897",
      "metadata": {
        "id": "a1a38897"
      },
      "source": [
        "## Objectives\n",
        "- Evaluate models using confusion matrix and metrics"
      ]
    },
    {
      "cell_type": "code",
      "execution_count": null,
      "id": "f61d9571",
      "metadata": {
        "id": "f61d9571"
      },
      "outputs": [],
      "source": [
        "from sklearn.metrics import confusion_matrix, classification_report"
      ]
    }
  ],
  "metadata": {
    "colab": {
      "provenance": [],
      "include_colab_link": true
    }
  },
  "nbformat": 4,
  "nbformat_minor": 5
}