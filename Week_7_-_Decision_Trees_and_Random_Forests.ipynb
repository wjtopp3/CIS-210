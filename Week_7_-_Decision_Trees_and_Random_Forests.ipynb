{
 "cells": [
  {
   "cell_type": "markdown",
   "id": "db22e3a1",
   "metadata": {},
   "source": [
    "# Week 7 - Decision Trees and Random Forests"
   ]
  },
  {
   "cell_type": "markdown",
   "id": "aa1c967d",
   "metadata": {},
   "source": [
    "## Objectives\n",
    "- Compare decision trees and random forests"
   ]
  },
  {
   "cell_type": "code",
   "execution_count": null,
   "id": "1597b391",
   "metadata": {},
   "outputs": [],
   "source": [
    "from sklearn.tree import DecisionTreeClassifier\n",
    "from sklearn.ensemble import RandomForestClassifier"
   ]
  }
 ],
 "metadata": {},
 "nbformat": 4,
 "nbformat_minor": 5
}
