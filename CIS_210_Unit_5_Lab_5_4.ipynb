{
  "nbformat": 4,
  "nbformat_minor": 0,
  "metadata": {
    "colab": {
      "provenance": [],
      "authorship_tag": "ABX9TyOrycfrwJp0y3nXldqH8VsA",
      "include_colab_link": true
    },
    "kernelspec": {
      "name": "python3",
      "display_name": "Python 3"
    },
    "language_info": {
      "name": "python"
    }
  },
  "cells": [
    {
      "cell_type": "markdown",
      "metadata": {
        "id": "view-in-github",
        "colab_type": "text"
      },
      "source": [
        "<a href=\"https://colab.research.google.com/github/wjtopp3/CIS-210/blob/main/CIS_210_Unit_5_Lab_5_4.ipynb\" target=\"_parent\"><img src=\"https://colab.research.google.com/assets/colab-badge.svg\" alt=\"Open In Colab\"/></a>"
      ]
    },
    {
      "cell_type": "markdown",
      "source": [
        "The taxis dataset contains information on taxi journeys during March 2019 in New York City. The data includes time, number of passengers, distance, taxi color, payment method, and trip locations. Use **sklearn's cross_validate()** function to fit a linear regression model with 15-fold cross-validation.\n",
        "\n",
        "- Create dataframe X with features passengers and distance.\n",
        "\n",
        "- Create dataframe y with feature fare.\n",
        "\n",
        "- Split the data into 70% training, 20% validation and 10% testing sets, with random_state = 42.\n",
        "\n",
        "- Initialize a linear regression model.\n",
        "\n",
        "- Fit the model with 15-fold cross-validation to the training data, using 'explained_variance' as the performance metric.\n",
        "\n",
        "- Print the explained variance for each fold.\n",
        "\n",
        "----------------------------------\n",
        "\n",
        "Ex: If the file taxis_small.csv is used, the output is:\n",
        "\n",
        "Test score: [ 0.73224305  0.99710401  0.07165374  0.99973244  0.77172554  0.63613485\n",
        "  0.93052017 -0.96913429  0.51933292  0.99722418  0.95547656  0.34065158\n",
        "  0.22046622  0.92815629  0.61043292]"
      ],
      "metadata": {
        "id": "C3qSF1s8oSha"
      }
    },
    {
      "cell_type": "code",
      "execution_count": null,
      "metadata": {
        "id": "ynlGmVIIoGyZ"
      },
      "outputs": [],
      "source": [
        "import numpy as np\n",
        "import pandas as pd\n",
        "from sklearn.model_selection import train_test_split\n",
        "from sklearn.model_selection import cross_validate\n",
        "from sklearn import linear_model\n",
        "from sklearn.linear_model import LinearRegression\n",
        "\n",
        "\n",
        "# Load the taxis dataset\n",
        "# Replace 'taxis.csv' with your actual file path (e.g., 'taxis_small.csv')\n",
        "df = pd.read_csv('taxis.csv')\n",
        "\n",
        "# Create dataframe X with features 'passengers' and 'distance'\n",
        "X = df[['passengers', 'distance']]\n",
        "\n",
        "# Create dataframe y with feature 'fare'\n",
        "y = df[['fare']]\n",
        "\n",
        "# Split the data: 70% training, 30% temp (which will be split into 20% validation and 10% test)\n",
        "X_train, X_temp, y_train, y_temp = train_test_split(\n",
        "    X, y, test_size=0.30, random_state=42\n",
        ")\n",
        "\n",
        "# Split the temp data: 20% validation (2/3 of 30%) and 10% test (1/3 of 30%)\n",
        "X_val, X_test, y_val, y_test = train_test_split(\n",
        "    X_temp, y_temp, test_size=1/3, random_state=42\n",
        ")\n",
        "\n",
        "# Initialize a linear regression model\n",
        "model = LinearRegression()\n",
        "\n",
        "# Perform 15-fold cross-validation on the training data\n",
        "cv_results = cross_validate(\n",
        "    model,\n",
        "    X_train,\n",
        "    y_train.values.ravel(),  # Convert to 1D array to avoid warnings\n",
        "    cv=15,\n",
        "    scoring='explained_variance'\n",
        ")\n",
        "\n",
        "# Print the explained variance for each fold\n",
        "print(\"Test score:\", cv_results['test_score'])"
      ]
    },
    {
      "cell_type": "code",
      "source": [
        "import numpy as np\n",
        "import pandas as pd\n",
        "from sklearn.model_selection import train_test_split\n",
        "from sklearn.model_selection import cross_validate\n",
        "from sklearn import linear_model\n",
        "from sklearn.linear_model import LinearRegression\n",
        "\n",
        "taxis = pd.read_csv('taxis.csv')\n",
        "\n",
        "# Create dataframe X with features passengers and distance\n",
        "X = taxis[['passengers', 'distance']]\n",
        "# Create dataframe y with feature fare.\n",
        "y = taxis[['fare']]\n",
        "\n",
        "# Set aside 10% of instances for testing\n",
        "X_train, X_test, y_train, y_test = train_test_split(X, y, test_size=0.1,\n",
        "                                                    random_state=42)\n",
        "\n",
        "# Split training again into 70% training and 20% validation\n",
        "X_train, X_val, y_train, y_val = train_test_split(X_train, y_train, test_size=0.2/(1-0.1),\n",
        "                                                  random_state=42)\n",
        "\n",
        "# Initialize a linear regression model\n",
        "linRegModel = LinearRegression()\n",
        "\n",
        "# Fit the model with 15-fold cross-validation to the training data,\n",
        "# using `'explained_variance'` as the performance metric\n",
        "cv_results = cross_validate(linRegModel, X_train, np.ravel(y_train), cv=15, scoring='explained_variance')\n",
        "\n",
        "# Print the explained variance for each fold\n",
        "print(\"Test score:\", cv_results['test_score'])"
      ],
      "metadata": {
        "id": "34bE-U0ar2RY"
      },
      "execution_count": null,
      "outputs": []
    }
  ]
}