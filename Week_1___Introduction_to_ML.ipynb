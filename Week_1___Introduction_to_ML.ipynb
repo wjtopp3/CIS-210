{
  "cells": [
    {
      "cell_type": "markdown",
      "metadata": {
        "id": "view-in-github",
        "colab_type": "text"
      },
      "source": [
        "<a href=\"https://colab.research.google.com/github/wjtopp3/CIS-210/blob/main/Week_1___Introduction_to_ML.ipynb\" target=\"_parent\"><img src=\"https://colab.research.google.com/assets/colab-badge.svg\" alt=\"Open In Colab\"/></a>"
      ]
    },
    {
      "cell_type": "markdown",
      "id": "151923a1",
      "metadata": {
        "id": "151923a1"
      },
      "source": [
        "# Week 1 - Introduction to Machine Learning"
      ]
    },
    {
      "cell_type": "markdown",
      "id": "c2305528",
      "metadata": {
        "id": "c2305528"
      },
      "source": [
        "## Objectives\n",
        "- Understand ML categories\n",
        "- Install tools\n",
        "- Explore example datasets"
      ]
    },
    {
      "cell_type": "markdown",
      "id": "5ac37b49",
      "metadata": {
        "id": "5ac37b49"
      },
      "source": [
        "## Setup"
      ]
    },
    {
      "cell_type": "code",
      "execution_count": null,
      "id": "b25437ee",
      "metadata": {
        "id": "b25437ee"
      },
      "outputs": [],
      "source": [
        "!pip install numpy pandas matplotlib scikit-learn"
      ]
    },
    {
      "cell_type": "markdown",
      "id": "48f18e13",
      "metadata": {
        "id": "48f18e13"
      },
      "source": [
        "## Sample Dataset Exploration"
      ]
    },
    {
      "cell_type": "code",
      "execution_count": null,
      "id": "7d728120",
      "metadata": {
        "id": "7d728120"
      },
      "outputs": [],
      "source": [
        "from sklearn import datasets\n",
        "iris = datasets.load_iris()\n",
        "print(iris.DESCR)"
      ]
    },
    {
      "cell_type": "code",
      "source": [
        "# Import the necessary modules\n",
        "import numpy as np\n",
        "import pandas as pd\n",
        "from sklearn.linear_model import LogisticRegression\n",
        "\n",
        "# Read in the file fg_attempt.csv\n",
        "field_goal = pd.read_csv('fg_attempt.csv')\n",
        "\n",
        "# Create a dataframe X containing 'Distance' and 'ScoreDiffPreKick'\n",
        "X = # Your code here\n",
        "# Create a dataframe y containing 'Outcome'\n",
        "y = # Your code here\n",
        "\n",
        "# Flatten y into an array\n",
        "# Your code here\n",
        "\n",
        "# Initialize a LogisticRegression() model\n",
        "logisticModel = # Your code here\n",
        "\n",
        "# Fit the model\n",
        "# Your code here\n",
        "\n",
        "# Input feature values for a sample instance\n",
        "Distance = float(input())\n",
        "ScoreDiffPreKick = float(input())\n",
        "\n",
        "# Create a new dataframe with user-input Distance and ScoreDiffPreKick\n",
        "XNew = # Your code here\n",
        "\n",
        "# Predict the outcome from the new data\n",
        "pred = # Your code here\n",
        "print(pred)\n",
        "\n",
        "# Determine the accuracy of the model logisticModel\n",
        "score = # Your code here\n",
        "print(score)"
      ],
      "metadata": {
        "id": "2ZellUnwtH3Y"
      },
      "id": "2ZellUnwtH3Y",
      "execution_count": null,
      "outputs": []
    }
  ],
  "metadata": {
    "colab": {
      "provenance": [],
      "include_colab_link": true
    }
  },
  "nbformat": 4,
  "nbformat_minor": 5
}