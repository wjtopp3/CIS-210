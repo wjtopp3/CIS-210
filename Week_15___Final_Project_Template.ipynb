{
  "cells": [
    {
      "cell_type": "markdown",
      "metadata": {
        "id": "view-in-github",
        "colab_type": "text"
      },
      "source": [
        "<a href=\"https://colab.research.google.com/github/wjtopp3/CIS-210/blob/main/Week_15___Final_Project_Template.ipynb\" target=\"_parent\"><img src=\"https://colab.research.google.com/assets/colab-badge.svg\" alt=\"Open In Colab\"/></a>"
      ]
    },
    {
      "cell_type": "markdown",
      "id": "f092de55",
      "metadata": {
        "id": "f092de55"
      },
      "source": [
        "# Week 15 - Final Project Template"
      ]
    },
    {
      "cell_type": "markdown",
      "id": "e02c493a",
      "metadata": {
        "id": "e02c493a"
      },
      "source": [
        "## Instructions\n",
        "- Insert project summary and model code here"
      ]
    }
  ],
  "metadata": {
    "colab": {
      "provenance": [],
      "include_colab_link": true
    }
  },
  "nbformat": 4,
  "nbformat_minor": 5
}