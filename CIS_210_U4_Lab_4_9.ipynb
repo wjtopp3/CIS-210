{
  "nbformat": 4,
  "nbformat_minor": 0,
  "metadata": {
    "colab": {
      "provenance": [],
      "authorship_tag": "ABX9TyNNdvKSje+HTdYkRFiQGsAe",
      "include_colab_link": true
    },
    "kernelspec": {
      "name": "python3",
      "display_name": "Python 3"
    },
    "language_info": {
      "name": "python"
    }
  },
  "cells": [
    {
      "cell_type": "markdown",
      "metadata": {
        "id": "view-in-github",
        "colab_type": "text"
      },
      "source": [
        "<a href=\"https://colab.research.google.com/github/wjtopp3/CIS-210/blob/main/CIS_210_U4_Lab_4_9.ipynb\" target=\"_parent\"><img src=\"https://colab.research.google.com/assets/colab-badge.svg\" alt=\"Open In Colab\"/></a>"
      ]
    },
    {
      "cell_type": "markdown",
      "source": [
        "The diamonds dataset contains the price, cut, color, and other characteristics of a sample of nearly 54,000 diamonds. This data can be used to predict the price of a diamond based on its characteristics. Using a sample of the dataset and scikit-learn's **LinearRegression()** function, predict the price of a diamond from the diamond's carat and table values. Using scikit-learn's metrics module, calculate the various regression metrics for the model.\n",
        "\n",
        "***Initialize and fit a multiple linear regression model.***\n",
        "\n",
        "Use the model to predict the prices of instances in X.\n",
        "\n",
        "Calculate mean absolute error for the model.\n",
        "\n",
        "Calculate mean squared error for the model.\n",
        "\n",
        "Calculate root mean squared error for the model.\n",
        "\n",
        "Calculate R-squared for the model.\n",
        "\n",
        "**Ex: If the user-input random state used to take the sample is:**\n",
        "\n",
        "123\n",
        "\n",
        "**the output should be:**\n",
        "\n",
        "MAE: 1045.203\n",
        "\n",
        "MSE: 2447857.716\n",
        "\n",
        "RMSE: 1564.563\n",
        "\n",
        "R-squared: 0.856"
      ],
      "metadata": {
        "id": "P7mgkHIMlVA-"
      }
    },
    {
      "cell_type": "code",
      "execution_count": null,
      "metadata": {
        "id": "fVyuAddTk6Ku"
      },
      "outputs": [],
      "source": [
        "import pandas as pd\n",
        "import numpy as np\n",
        "from sklearn.linear_model import LinearRegression\n",
        "from sklearn.metrics import mean_absolute_error, mean_squared_error, r2_score\n",
        "\n",
        "# Load the diamonds dataset\n",
        "try:\n",
        "    import seaborn as sns\n",
        "    df = sns.load_dataset('diamonds')\n",
        "except:\n",
        "    # Alternative: if you have the dataset as a CSV file\n",
        "    df = pd.read_csv('diamonds.csv')\n",
        "\n",
        "# Read the diamonds dataset\n",
        "#df = pd.read_csv('diamonds.csv')\n",
        "\n",
        "# Get random state from user\n",
        "random_state = int(input())\n",
        "\n",
        "# Take a sample of the data\n",
        "df_sample = df.sample(n=500, random_state=random_state)\n",
        "\n",
        "# Prepare features (X) and target (y)\n",
        "X = df_sample[['carat', 'table']].values\n",
        "y = df_sample['price'].values\n",
        "\n",
        "# Initialize and fit multiple linear regression model\n",
        "model = LinearRegression()\n",
        "model.fit(X, y)\n",
        "\n",
        "# Predict prices\n",
        "y_pred = model.predict(X)\n",
        "\n",
        "# Calculate mean absolute error\n",
        "mae = mean_absolute_error(y, y_pred)\n",
        "\n",
        "# Calculate mean squared error\n",
        "mse = mean_squared_error(y, y_pred)\n",
        "\n",
        "# Calculate root mean squared error\n",
        "rmse = np.sqrt(mse)\n",
        "\n",
        "# Calculate R-squared\n",
        "r_squared = r2_score(y, y_pred)\n",
        "\n",
        "# Print results\n",
        "print(f\"MAE: {mae:.3f}\")\n",
        "print(f\"MSE: {mse:.3f}\")\n",
        "print(f\"RMSE: {rmse:.3f}\")\n",
        "print(f\"R-squared: {r_squared:.3f}\")"
      ]
    }
  ]
}