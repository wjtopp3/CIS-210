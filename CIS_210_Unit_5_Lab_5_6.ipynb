{
  "nbformat": 4,
  "nbformat_minor": 0,
  "metadata": {
    "colab": {
      "provenance": [],
      "authorship_tag": "ABX9TyOHGDaPXh7OuFqetulaSPyg",
      "include_colab_link": true
    },
    "kernelspec": {
      "name": "python3",
      "display_name": "Python 3"
    },
    "language_info": {
      "name": "python"
    }
  },
  "cells": [
    {
      "cell_type": "markdown",
      "metadata": {
        "id": "view-in-github",
        "colab_type": "text"
      },
      "source": [
        "<a href=\"https://colab.research.google.com/github/wjtopp3/CIS-210/blob/main/CIS_210_Unit_5_Lab_5_6.ipynb\" target=\"_parent\"><img src=\"https://colab.research.google.com/assets/colab-badge.svg\" alt=\"Open In Colab\"/></a>"
      ]
    },
    {
      "cell_type": "markdown",
      "source": [
        "The taxis dataset contains information on taxi journeys during March 2019 in New York City. The data includes time, number of passengers, distance, taxi color, payment method, and trip locations. Use **sklearn's cross_validate()** function to fit **a linear regression model** and a **k-nearest neighbors regression** model with 10-fold cross-validation.\n",
        "\n",
        "- Create dataframe X with the feature distance.\n",
        "\n",
        "- Create dataframe y with the feature fare.\n",
        "\n",
        "- Split the data into 80% training, 10% validation and 10% testing sets, with random_state = 42.\n",
        "\n",
        "- Initialize a linear regression model.\n",
        "\n",
        "- Initialize a k-nearest neighbors regression model with k = 3.\n",
        "\n",
        "- Define a set of 10 cross-validation folds with random_state=42.\n",
        "\n",
        "- Fit the models with cross-validation to the training data, using the default performance metric.\n",
        "\n",
        "- For each model, print the test score for each fold, as well as the mean and standard deviation for the model.\n",
        "\n",
        "---------------------------------\n",
        "\n",
        "Ex: If the file taxis_small.csv is used, the output is:\n",
        "\n",
        "k-nearest neighbor scores:\n",
        "[0.412 0.741 0.708 0.855 0.056 0.974 0.622 0.769 0.754 0.236]\n",
        "\n",
        "Mean: 0.613\n",
        "\n",
        "SD: 0.274\n",
        "\n",
        "Simple linear regression scores:\n",
        "[ 0.603  0.584  0.651  0.956 -0.564  0.941  0.828 -0.294  0.908  0.723]\n",
        "\n",
        "Mean: 0.534\n",
        "\n",
        "SD: 0.502"
      ],
      "metadata": {
        "id": "DBJxBqZAs4FD"
      }
    },
    {
      "cell_type": "code",
      "execution_count": null,
      "metadata": {
        "id": "ciEr9naxsxdn"
      },
      "outputs": [],
      "source": [
        "import pandas as pd\n",
        "import numpy as np\n",
        "from sklearn.model_selection import train_test_split\n",
        "from sklearn.model_selection import cross_validate\n",
        "from sklearn.model_selection import KFold\n",
        "from sklearn.neighbors import KNeighborsRegressor\n",
        "from sklearn.linear_model import LinearRegression\n",
        "\n",
        "taxis = pd.read_csv(\"taxis.csv\")\n",
        "\n",
        "# Create dataframe X with the feature distance\n",
        "X = taxis[['distance']]\n",
        "# Create dataframe y with the feature fare\n",
        "y = taxis[['fare']]\n",
        "\n",
        "# Set aside 10% of instances for testing\n",
        "X_train, X_test, y_train, y_test = train_test_split(X, y, test_size=0.1,\n",
        "                                                    random_state=42)\n",
        "\n",
        "# Split training again into 80% training and 10% validation\n",
        "X_train, X_val, y_train, y_val = train_test_split(X_train, y_train, test_size=0.1/(1-0.1),\n",
        "                                                  random_state=42)\n",
        "\n",
        "# Initialize a linear regression model\n",
        "SLRModel = LinearRegression()\n",
        "# Initialize a k-nearest neighbors regression model with k = 3\n",
        "knnModel = KNeighborsRegressor(n_neighbors=3)\n",
        "\n",
        "# Define a set of 10 cross-validation folds with random_state=42\n",
        "kf = KFold(n_splits=10, random_state=42, shuffle=True)\n",
        "\n",
        "# Fit k-nearest neighbors with cross-validation to the training data\n",
        "knnResults = cross_validate(knnModel, X_train, np.ravel(y_train), cv=kf)\n",
        "\n",
        "# Find test score for each fold\n",
        "knnScores = knnResults['test_score']\n",
        "print('k-nearest neighbor scores:', knnScores.round(3))\n",
        "\n",
        "# Calculate descriptive statistics for k-nearest neighbor model\n",
        "print('Mean:', knnScores.mean().round(3))\n",
        "print('SD:', knnScores.std().round(3))\n",
        "\n",
        "# Fit simple linear regression with cross-validation to the training data\n",
        "SLRModelResults = cross_validate(SLRModel, X_train, np.ravel(y_train), cv=kf)\n",
        "\n",
        "# Find test score for each fold\n",
        "SLRScores = SLRModelResults['test_score']\n",
        "print('Simple linear regression scores:', SLRScores.round(3))\n",
        "\n",
        "# Calculate descriptive statistics simple linear regression model\n",
        "print('Mean:', SLRScores.mean().round(3))\n",
        "print('SD:', SLRScores.std().round(3))"
      ]
    }
  ]
}