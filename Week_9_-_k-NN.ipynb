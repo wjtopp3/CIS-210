{
 "cells": [
  {
   "cell_type": "markdown",
   "id": "306e5dc0",
   "metadata": {},
   "source": [
    "# Week 9 - k-Nearest Neighbors"
   ]
  },
  {
   "cell_type": "markdown",
   "id": "cfbf69a2",
   "metadata": {},
   "source": [
    "## Objectives\n",
    "- Use k-NN for classification"
   ]
  },
  {
   "cell_type": "code",
   "execution_count": null,
   "id": "72b5d2a0",
   "metadata": {},
   "outputs": [],
   "source": [
    "from sklearn.neighbors import KNeighborsClassifier"
   ]
  }
 ],
 "metadata": {},
 "nbformat": 4,
 "nbformat_minor": 5
}
