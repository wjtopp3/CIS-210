{
  "cells": [
    {
      "cell_type": "markdown",
      "metadata": {
        "id": "view-in-github",
        "colab_type": "text"
      },
      "source": [
        "<a href=\"https://colab.research.google.com/github/wjtopp3/CIS-210/blob/main/Week_2___Python_for_Data_Science.ipynb\" target=\"_parent\"><img src=\"https://colab.research.google.com/assets/colab-badge.svg\" alt=\"Open In Colab\"/></a>"
      ]
    },
    {
      "cell_type": "markdown",
      "id": "3f384447",
      "metadata": {
        "id": "3f384447"
      },
      "source": [
        "# Week 2 - Python for Data Science"
      ]
    },
    {
      "cell_type": "markdown",
      "id": "8f766f75",
      "metadata": {
        "id": "8f766f75"
      },
      "source": [
        "## Objectives\n",
        "- Practice pandas, NumPy, matplotlib\n",
        "- Data cleaning and visualization"
      ]
    },
    {
      "cell_type": "code",
      "execution_count": null,
      "id": "0ca03272",
      "metadata": {
        "id": "0ca03272"
      },
      "outputs": [],
      "source": [
        "import pandas as pd\n",
        "import numpy as np\n",
        "import matplotlib.pyplot as plt"
      ]
    },
    {
      "cell_type": "code",
      "execution_count": null,
      "id": "f4a2a931",
      "metadata": {
        "id": "f4a2a931"
      },
      "outputs": [],
      "source": [
        "df = pd.read_csv('https://raw.githubusercontent.com/mwaskom/seaborn-data/master/titanic.csv')\n",
        "df.head()"
      ]
    }
  ],
  "metadata": {
    "colab": {
      "provenance": [],
      "include_colab_link": true
    }
  },
  "nbformat": 4,
  "nbformat_minor": 5
}