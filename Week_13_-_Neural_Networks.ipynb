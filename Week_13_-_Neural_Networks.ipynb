{
 "cells": [
  {
   "cell_type": "markdown",
   "id": "15ebe6e0",
   "metadata": {},
   "source": [
    "# Week 13 - Neural Networks"
   ]
  },
  {
   "cell_type": "markdown",
   "id": "de0c2d57",
   "metadata": {},
   "source": [
    "## Objectives\n",
    "- Build a simple neural network"
   ]
  },
  {
   "cell_type": "code",
   "execution_count": null,
   "id": "924452f7",
   "metadata": {},
   "outputs": [],
   "source": [
    "from keras.models import Sequential\n",
    "from keras.layers import Dense"
   ]
  }
 ],
 "metadata": {},
 "nbformat": 4,
 "nbformat_minor": 5
}
