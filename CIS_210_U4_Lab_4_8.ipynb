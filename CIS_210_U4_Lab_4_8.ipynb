{
  "nbformat": 4,
  "nbformat_minor": 0,
  "metadata": {
    "colab": {
      "provenance": [],
      "authorship_tag": "ABX9TyNt8DMpvdjP9AIdYKwSZoU8",
      "include_colab_link": true
    },
    "kernelspec": {
      "name": "python3",
      "display_name": "Python 3"
    },
    "language_info": {
      "name": "python"
    }
  },
  "cells": [
    {
      "cell_type": "markdown",
      "metadata": {
        "id": "view-in-github",
        "colab_type": "text"
      },
      "source": [
        "<a href=\"https://colab.research.google.com/github/wjtopp3/CIS-210/blob/main/CIS_210_U4_Lab_4_8.ipynb\" target=\"_parent\"><img src=\"https://colab.research.google.com/assets/colab-badge.svg\" alt=\"Open In Colab\"/></a>"
      ]
    },
    {
      "cell_type": "markdown",
      "source": [
        "The nbaallelo_log.csv file contains data on 126314 NBA games from 1947 to 2015. The dataset includes the features pts, elo_i, win_equiv, and game_result. Using a sample of the csv file nbaallelo_log.csv and scikit-learn's LogisticRegression() function, construct a logistic regression model to classify whether a team will win or lose a game based on the team's elo_i score. Using scikit-learn's metrics module, calculate the various classification metrics for the model.\n",
        "\n",
        "Build a logistic model with default parameters, fit to the input and output features X and y.\n",
        "Use the model to predict the classification of instances in X.\n",
        "Calculate the confusion matrix for the model.\n",
        "Calculate the accuracy for the model.\n",
        "Calculate the precision for the model.\n",
        "Calculate the recall for the model.\n",
        "Calculate kappa for the model.\n",
        "\n",
        "**Ex: If the user-input random state used to take the sample is:**\n",
        "\n",
        "123\n",
        "\n",
        "**the output should be:**\n",
        "\n",
        "Confusion matrix:\n",
        " [[158  97]\n",
        " [122 123]]\n",
        "\n",
        "Accuracy: 0.562\n",
        "\n",
        "Precision: 0.559\n",
        "\n",
        "Recall: 0.502\n",
        "\n",
        "Kappa: 0.122\n",
        "\n"
      ],
      "metadata": {
        "id": "ZpXWhbaPjs8o"
      }
    },
    {
      "cell_type": "code",
      "execution_count": null,
      "metadata": {
        "id": "JL6mD6sWjsLn"
      },
      "outputs": [],
      "source": [
        "import pandas as pd\n",
        "from sklearn.linear_model import LogisticRegression\n",
        "from sklearn.metrics import confusion_matrix, accuracy_score, precision_score, recall_score, cohen_kappa_score\n",
        "\n",
        "# Read the CSV file\n",
        "df = pd.read_csv('nbaallelo_log.csv')\n",
        "\n",
        "# Get random state from user\n",
        "random_state = int(input())\n",
        "\n",
        "# Take a sample of the data\n",
        "df_sample = df.sample(n=500, random_state=random_state)\n",
        "\n",
        "# Prepare features (X) and target (y)\n",
        "X = df_sample[['elo_i']].values\n",
        "y = df_sample['game_result'].values\n",
        "\n",
        "# Build logistic regression model with default parameters\n",
        "model = LogisticRegression()\n",
        "\n",
        "# Fit the model\n",
        "model.fit(X, y)\n",
        "\n",
        "# Predict classifications\n",
        "y_pred = model.predict(X)\n",
        "\n",
        "# Calculate confusion matrix\n",
        "cm = confusion_matrix(y, y_pred)\n",
        "\n",
        "# Calculate accuracy\n",
        "accuracy = accuracy_score(y, y_pred)\n",
        "\n",
        "# Calculate precision\n",
        "precision = precision_score(y, y_pred)\n",
        "\n",
        "# Calculate recall\n",
        "recall = recall_score(y, y_pred)\n",
        "\n",
        "# Calculate Cohen's kappa\n",
        "kappa = cohen_kappa_score(y, y_pred)\n",
        "\n",
        "# Print results\n",
        "print(\"Confusion matrix:\")\n",
        "print(f\" {cm}\")\n",
        "print(f\"Accuracy: {accuracy:.3f}\")\n",
        "print(f\"Precision: {precision:.3f}\")\n",
        "print(f\"Recall: {recall:.3f}\")\n",
        "print(f\"Kappa: {kappa:.3f}\")"
      ]
    }
  ]
}