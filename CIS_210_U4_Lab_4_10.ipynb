{
  "nbformat": 4,
  "nbformat_minor": 0,
  "metadata": {
    "colab": {
      "provenance": [],
      "authorship_tag": "ABX9TyPtWHW3tkf4Oav8sohmiAvm",
      "include_colab_link": true
    },
    "kernelspec": {
      "name": "python3",
      "display_name": "Python 3"
    },
    "language_info": {
      "name": "python"
    }
  },
  "cells": [
    {
      "cell_type": "markdown",
      "metadata": {
        "id": "view-in-github",
        "colab_type": "text"
      },
      "source": [
        "<a href=\"https://colab.research.google.com/github/wjtopp3/CIS-210/blob/main/CIS_210_U4_Lab_4_10.ipynb\" target=\"_parent\"><img src=\"https://colab.research.google.com/assets/colab-badge.svg\" alt=\"Open In Colab\"/></a>"
      ]
    },
    {
      "cell_type": "markdown",
      "source": [
        "The diamonds dataset contains the price, cut, color, and other characteristics of a sample of nearly 54,000 diamonds. This data can be used to predict the price of a diamond based on its characteristics. Using a sample of the dataset and scikit-learn's LinearRegression() function, predict the price of a diamond from the user-input features. Using scikit-learn and matplotlib, create plots to evaluate the regression model.\n",
        "\n",
        "Initialize and fit a multiple linear regression model.\n",
        "Use the model to predict the prices of instances in X.\n",
        "Compute the prediction errors.\n",
        "Plot prediction errors vs predicted values. Label the x-axis as 'Predicted' and the y-axis as 'Prediction error'. Include a dashed line at y=0.\n",
        "Generate a partial dependence display for both input features.\n",
        "\n",
        "**Ex: If the input features are:**\n",
        "\n",
        "carat\n",
        "\n",
        "table\n",
        "\n",
        "**The output should be:**\n",
        "\n",
        "Several graphs seen in ZyBooks\n",
        "\n",
        "MAE: 929.628\n",
        "\n",
        "Plots are saved to the Files pane after running the code."
      ],
      "metadata": {
        "id": "-oiiVdcmmuMV"
      }
    },
    {
      "cell_type": "code",
      "execution_count": null,
      "metadata": {
        "id": "1VYd9P8wmhQh"
      },
      "outputs": [],
      "source": [
        "import pandas as pd\n",
        "import matplotlib.pyplot as plt\n",
        "from sklearn.linear_model import LinearRegression\n",
        "from sklearn.inspection import PartialDependenceDisplay\n",
        "from sklearn.metrics import mean_absolute_error\n",
        "\n",
        "# Read the diamonds dataset\n",
        "df = pd.read_csv('diamonds.csv')\n",
        "\n",
        "# Get input features from user\n",
        "features = []\n",
        "while True:\n",
        "    feature = input()\n",
        "    if feature == '':\n",
        "        break\n",
        "    features.append(feature)\n",
        "\n",
        "# Take a sample of the data (using a fixed sample for consistency)\n",
        "df_sample = df.sample(n=500, random_state=100)\n",
        "\n",
        "# Prepare features (X) and target (y)\n",
        "X = df_sample[features].values\n",
        "y = df_sample['price'].values\n",
        "\n",
        "# Initialize and fit multiple linear regression model\n",
        "model = LinearRegression()\n",
        "model.fit(X, y)\n",
        "\n",
        "# Predict prices\n",
        "y_pred = model.predict(X)\n",
        "\n",
        "# Compute prediction errors\n",
        "errors = y - y_pred\n",
        "\n",
        "# Plot prediction errors vs predicted values\n",
        "plt.figure(figsize=(8, 6))\n",
        "plt.scatter(y_pred, errors, alpha=0.5)\n",
        "plt.axhline(y=0, color='red', linestyle='--')\n",
        "plt.xlabel('Predicted')\n",
        "plt.ylabel('Prediction error')\n",
        "plt.title('Prediction Errors vs Predicted Values')\n",
        "plt.tight_layout()\n",
        "plt.show()\n",
        "\n",
        "# Generate partial dependence display for both input features\n",
        "fig, ax = plt.subplots(figsize=(12, 5))\n",
        "PartialDependenceDisplay.from_estimator(\n",
        "    model,\n",
        "    df_sample[features],\n",
        "    features=list(range(len(features))),\n",
        "    feature_names=features,\n",
        "    ax=ax\n",
        ")\n",
        "plt.tight_layout()\n",
        "plt.show()\n",
        "\n",
        "# Calculate and print MAE\n",
        "mae = mean_absolute_error(y, y_pred)\n",
        "print(f\"MAE: {mae:.3f}\")"
      ]
    }
  ]
}