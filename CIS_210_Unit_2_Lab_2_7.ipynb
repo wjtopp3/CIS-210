{
  "nbformat": 4,
  "nbformat_minor": 0,
  "metadata": {
    "colab": {
      "provenance": [],
      "authorship_tag": "ABX9TyP7E0Guk5BX3qKxE/6JHXwp",
      "include_colab_link": true
    },
    "kernelspec": {
      "name": "python3",
      "display_name": "Python 3"
    },
    "language_info": {
      "name": "python"
    }
  },
  "cells": [
    {
      "cell_type": "markdown",
      "metadata": {
        "id": "view-in-github",
        "colab_type": "text"
      },
      "source": [
        "<a href=\"https://colab.research.google.com/github/wjtopp3/CIS-210/blob/main/CIS_210_Unit_2_Lab_2_7.ipynb\" target=\"_parent\"><img src=\"https://colab.research.google.com/assets/colab-badge.svg\" alt=\"Open In Colab\"/></a>"
      ]
    },
    {
      "cell_type": "code",
      "execution_count": null,
      "metadata": {
        "id": "yPhcJO_CIyQG"
      },
      "outputs": [],
      "source": [
        "# Import the necessary libraries\n",
        "import pandas as pd\n",
        "import numpy as np\n",
        "from sklearn.linear_model import LogisticRegression\n",
        "from sklearn.metrics import accuracy_score\n",
        "\n",
        "# Load nbaallelo_log.csv into a dataframe\n",
        "NBA = pd.read_csv('nbaallelo_log.csv')\n",
        "\n",
        "# Create binary feature for game_result with 0 for L and 1 for W\n",
        "NBA['win'] = np.where(NBA['game_result'] == 'W').astype(int)\n",
        "\n",
        "# Store relevant columns as variables\n",
        "X = NBA[['elo_i']]\n",
        "y = NBA[['win']]\n",
        "\n",
        "# Initialize and fit the logistic model using the LogisticRegression() function\n",
        "model = LogisticRegression(penalty='12')\n",
        "model.fit(X, y.ravel())\n",
        "\n",
        "# Print the weights for the fitted model\n",
        "print('w1:', model.coef_)\n",
        "\n",
        "# Print the intercept of the fitted model\n",
        "print('w0:', model.intercept_)\n",
        "\n",
        "# Find the proportion of instances correctly classified\n",
        "y_pred = model.predict(X)\n",
        "score = accuracy_score(y, y_pred)\n",
        "print(round(score, 3))"
      ]
    }
  ]
}