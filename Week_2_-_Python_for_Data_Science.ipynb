{
 "cells": [
  {
   "cell_type": "markdown",
   "id": "3f384447",
   "metadata": {},
   "source": [
    "# Week 2 - Python for Data Science"
   ]
  },
  {
   "cell_type": "markdown",
   "id": "8f766f75",
   "metadata": {},
   "source": [
    "## Objectives\n",
    "- Practice pandas, NumPy, matplotlib\n",
    "- Data cleaning and visualization"
   ]
  },
  {
   "cell_type": "code",
   "execution_count": null,
   "id": "0ca03272",
   "metadata": {},
   "outputs": [],
   "source": [
    "import pandas as pd\n",
    "import numpy as np\n",
    "import matplotlib.pyplot as plt"
   ]
  },
  {
   "cell_type": "code",
   "execution_count": null,
   "id": "f4a2a931",
   "metadata": {},
   "outputs": [],
   "source": [
    "df = pd.read_csv('https://raw.githubusercontent.com/mwaskom/seaborn-data/master/titanic.csv')\n",
    "df.head()"
   ]
  }
 ],
 "metadata": {},
 "nbformat": 4,
 "nbformat_minor": 5
}
