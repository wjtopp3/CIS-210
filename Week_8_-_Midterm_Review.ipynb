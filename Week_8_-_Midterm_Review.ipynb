{
 "cells": [
  {
   "cell_type": "markdown",
   "id": "6d7b3538",
   "metadata": {},
   "source": [
    "# Week 8 - Midterm Review"
   ]
  },
  {
   "cell_type": "markdown",
   "id": "7903ee71",
   "metadata": {},
   "source": [
    "## Objectives\n",
    "- Review key topics and practice coding"
   ]
  }
 ],
 "metadata": {},
 "nbformat": 4,
 "nbformat_minor": 5
}
