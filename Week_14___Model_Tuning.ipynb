{
  "cells": [
    {
      "cell_type": "markdown",
      "metadata": {
        "id": "view-in-github",
        "colab_type": "text"
      },
      "source": [
        "<a href=\"https://colab.research.google.com/github/wjtopp3/CIS-210/blob/main/Week_14___Model_Tuning.ipynb\" target=\"_parent\"><img src=\"https://colab.research.google.com/assets/colab-badge.svg\" alt=\"Open In Colab\"/></a>"
      ]
    },
    {
      "cell_type": "markdown",
      "id": "449566c3",
      "metadata": {
        "id": "449566c3"
      },
      "source": [
        "# Week 14 - Model Tuning and Optimization"
      ]
    },
    {
      "cell_type": "markdown",
      "id": "c6435c5c",
      "metadata": {
        "id": "c6435c5c"
      },
      "source": [
        "## Objectives\n",
        "- Use GridSearchCV and pipelines"
      ]
    },
    {
      "cell_type": "code",
      "execution_count": null,
      "id": "dbdf72fc",
      "metadata": {
        "id": "dbdf72fc"
      },
      "outputs": [],
      "source": [
        "from sklearn.model_selection import GridSearchCV"
      ]
    }
  ],
  "metadata": {
    "colab": {
      "provenance": [],
      "include_colab_link": true
    }
  },
  "nbformat": 4,
  "nbformat_minor": 5
}