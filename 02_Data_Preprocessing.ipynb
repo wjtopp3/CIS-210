{
 "cells": [
  {
   "cell_type": "code",
   "execution_count": null,
   "id": "c65f4511",
   "metadata": {},
   "outputs": [],
   "source": [
    "# Example preprocessing steps\n",
    "from sklearn.model_selection import train_test_split\n",
    "from sklearn.preprocessing import StandardScaler\n",
    "\n",
    "# Define features and target\n",
    "X = df.drop('target_column', axis=1)\n",
    "y = df['target_column']\n",
    "\n",
    "# Train-test split\n",
    "X_train, X_test, y_train, y_test = train_test_split(X, y, test_size=0.2, random_state=42)"
   ]
  }
 ],
 "metadata": {},
 "nbformat": 4,
 "nbformat_minor": 5
}
