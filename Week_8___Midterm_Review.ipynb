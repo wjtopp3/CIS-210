{
  "cells": [
    {
      "cell_type": "markdown",
      "metadata": {
        "id": "view-in-github",
        "colab_type": "text"
      },
      "source": [
        "<a href=\"https://colab.research.google.com/github/wjtopp3/CIS-210/blob/main/Week_8___Midterm_Review.ipynb\" target=\"_parent\"><img src=\"https://colab.research.google.com/assets/colab-badge.svg\" alt=\"Open In Colab\"/></a>"
      ]
    },
    {
      "cell_type": "markdown",
      "id": "6d7b3538",
      "metadata": {
        "id": "6d7b3538"
      },
      "source": [
        "# Week 8 - Midterm Review"
      ]
    },
    {
      "cell_type": "markdown",
      "id": "7903ee71",
      "metadata": {
        "id": "7903ee71"
      },
      "source": [
        "## Objectives\n",
        "- Review key topics and practice coding"
      ]
    }
  ],
  "metadata": {
    "colab": {
      "provenance": [],
      "include_colab_link": true
    }
  },
  "nbformat": 4,
  "nbformat_minor": 5
}